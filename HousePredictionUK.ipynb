{
 "cells": [
  {
   "cell_type": "code",
   "execution_count": 1,
   "metadata": {},
   "outputs": [],
   "source": [
    "import numpy as np\n",
    "import matplotlib.pyplot as plt \n",
    "import pandas as pd\n",
    "import sklearn\n",
    "from mpl_toolkits.mplot3d import Axes3D\n"
   ]
  },
  {
   "cell_type": "markdown",
   "metadata": {},
   "source": [
    "# Entraînement"
   ]
  },
  {
   "cell_type": "code",
   "execution_count": 2,
   "metadata": {},
   "outputs": [
    {
     "data": {
      "text/plain": [
       "Id                 int64\n",
       "MSSubClass         int64\n",
       "MSZoning          object\n",
       "LotFrontage      float64\n",
       "LotArea            int64\n",
       "                  ...   \n",
       "MoSold             int64\n",
       "YrSold             int64\n",
       "SaleType          object\n",
       "SaleCondition     object\n",
       "SalePrice          int64\n",
       "Length: 81, dtype: object"
      ]
     },
     "execution_count": 2,
     "metadata": {},
     "output_type": "execute_result"
    }
   ],
   "source": [
    "df = pd.read_csv(\"train.csv\") # dataset de training que l'on va diviser en train et val\n",
    "df.dtypes # on regarde les types de nos variables"
   ]
  },
  {
   "cell_type": "code",
   "execution_count": 3,
   "metadata": {},
   "outputs": [
    {
     "data": {
      "text/plain": [
       "Index(['Id', 'MSSubClass', 'LotFrontage', 'LotArea', 'OverallQual',\n",
       "       'OverallCond', 'YearBuilt', 'YearRemodAdd', 'MasVnrArea', 'BsmtFinSF1',\n",
       "       'BsmtFinSF2', 'BsmtUnfSF', 'TotalBsmtSF', '1stFlrSF', '2ndFlrSF',\n",
       "       'LowQualFinSF', 'GrLivArea', 'BsmtFullBath', 'BsmtHalfBath', 'FullBath',\n",
       "       'HalfBath', 'BedroomAbvGr', 'KitchenAbvGr', 'TotRmsAbvGrd',\n",
       "       'Fireplaces', 'GarageYrBlt', 'GarageCars', 'GarageArea', 'WoodDeckSF',\n",
       "       'OpenPorchSF', 'EnclosedPorch', '3SsnPorch', 'ScreenPorch', 'PoolArea',\n",
       "       'MiscVal', 'MoSold', 'YrSold', 'SalePrice'],\n",
       "      dtype='object')"
      ]
     },
     "execution_count": 3,
     "metadata": {},
     "output_type": "execute_result"
    }
   ],
   "source": [
    "# on sélectionne les colonnes qui ont des entiers ou flottants en variables\n",
    "num_df = df.select_dtypes(include=['int64','float64']).copy()\n",
    "num_df.keys() # on regarde les colonnes retenues"
   ]
  },
  {
   "cell_type": "code",
   "execution_count": 4,
   "metadata": {},
   "outputs": [
    {
     "data": {
      "text/html": [
       "<div>\n",
       "<style scoped>\n",
       "    .dataframe tbody tr th:only-of-type {\n",
       "        vertical-align: middle;\n",
       "    }\n",
       "\n",
       "    .dataframe tbody tr th {\n",
       "        vertical-align: top;\n",
       "    }\n",
       "\n",
       "    .dataframe thead th {\n",
       "        text-align: right;\n",
       "    }\n",
       "</style>\n",
       "<table border=\"1\" class=\"dataframe\">\n",
       "  <thead>\n",
       "    <tr style=\"text-align: right;\">\n",
       "      <th></th>\n",
       "      <th>Id</th>\n",
       "      <th>MSSubClass</th>\n",
       "      <th>LotFrontage</th>\n",
       "      <th>LotArea</th>\n",
       "      <th>OverallQual</th>\n",
       "      <th>OverallCond</th>\n",
       "      <th>YearBuilt</th>\n",
       "      <th>YearRemodAdd</th>\n",
       "      <th>MasVnrArea</th>\n",
       "      <th>BsmtFinSF1</th>\n",
       "      <th>...</th>\n",
       "      <th>WoodDeckSF</th>\n",
       "      <th>OpenPorchSF</th>\n",
       "      <th>EnclosedPorch</th>\n",
       "      <th>3SsnPorch</th>\n",
       "      <th>ScreenPorch</th>\n",
       "      <th>PoolArea</th>\n",
       "      <th>MiscVal</th>\n",
       "      <th>MoSold</th>\n",
       "      <th>YrSold</th>\n",
       "      <th>SalePrice</th>\n",
       "    </tr>\n",
       "  </thead>\n",
       "  <tbody>\n",
       "    <tr>\n",
       "      <td>7</td>\n",
       "      <td>8</td>\n",
       "      <td>60</td>\n",
       "      <td>NaN</td>\n",
       "      <td>10382</td>\n",
       "      <td>7</td>\n",
       "      <td>6</td>\n",
       "      <td>1973</td>\n",
       "      <td>1973</td>\n",
       "      <td>240.0</td>\n",
       "      <td>859</td>\n",
       "      <td>...</td>\n",
       "      <td>235</td>\n",
       "      <td>204</td>\n",
       "      <td>228</td>\n",
       "      <td>0</td>\n",
       "      <td>0</td>\n",
       "      <td>0</td>\n",
       "      <td>350</td>\n",
       "      <td>11</td>\n",
       "      <td>2009</td>\n",
       "      <td>200000</td>\n",
       "    </tr>\n",
       "    <tr>\n",
       "      <td>12</td>\n",
       "      <td>13</td>\n",
       "      <td>20</td>\n",
       "      <td>NaN</td>\n",
       "      <td>12968</td>\n",
       "      <td>5</td>\n",
       "      <td>6</td>\n",
       "      <td>1962</td>\n",
       "      <td>1962</td>\n",
       "      <td>0.0</td>\n",
       "      <td>737</td>\n",
       "      <td>...</td>\n",
       "      <td>140</td>\n",
       "      <td>0</td>\n",
       "      <td>0</td>\n",
       "      <td>0</td>\n",
       "      <td>176</td>\n",
       "      <td>0</td>\n",
       "      <td>0</td>\n",
       "      <td>9</td>\n",
       "      <td>2008</td>\n",
       "      <td>144000</td>\n",
       "    </tr>\n",
       "    <tr>\n",
       "      <td>14</td>\n",
       "      <td>15</td>\n",
       "      <td>20</td>\n",
       "      <td>NaN</td>\n",
       "      <td>10920</td>\n",
       "      <td>6</td>\n",
       "      <td>5</td>\n",
       "      <td>1960</td>\n",
       "      <td>1960</td>\n",
       "      <td>212.0</td>\n",
       "      <td>733</td>\n",
       "      <td>...</td>\n",
       "      <td>0</td>\n",
       "      <td>213</td>\n",
       "      <td>176</td>\n",
       "      <td>0</td>\n",
       "      <td>0</td>\n",
       "      <td>0</td>\n",
       "      <td>0</td>\n",
       "      <td>5</td>\n",
       "      <td>2008</td>\n",
       "      <td>157000</td>\n",
       "    </tr>\n",
       "    <tr>\n",
       "      <td>16</td>\n",
       "      <td>17</td>\n",
       "      <td>20</td>\n",
       "      <td>NaN</td>\n",
       "      <td>11241</td>\n",
       "      <td>6</td>\n",
       "      <td>7</td>\n",
       "      <td>1970</td>\n",
       "      <td>1970</td>\n",
       "      <td>180.0</td>\n",
       "      <td>578</td>\n",
       "      <td>...</td>\n",
       "      <td>0</td>\n",
       "      <td>0</td>\n",
       "      <td>0</td>\n",
       "      <td>0</td>\n",
       "      <td>0</td>\n",
       "      <td>0</td>\n",
       "      <td>700</td>\n",
       "      <td>3</td>\n",
       "      <td>2010</td>\n",
       "      <td>149000</td>\n",
       "    </tr>\n",
       "    <tr>\n",
       "      <td>24</td>\n",
       "      <td>25</td>\n",
       "      <td>20</td>\n",
       "      <td>NaN</td>\n",
       "      <td>8246</td>\n",
       "      <td>5</td>\n",
       "      <td>8</td>\n",
       "      <td>1968</td>\n",
       "      <td>2001</td>\n",
       "      <td>0.0</td>\n",
       "      <td>188</td>\n",
       "      <td>...</td>\n",
       "      <td>406</td>\n",
       "      <td>90</td>\n",
       "      <td>0</td>\n",
       "      <td>0</td>\n",
       "      <td>0</td>\n",
       "      <td>0</td>\n",
       "      <td>0</td>\n",
       "      <td>5</td>\n",
       "      <td>2010</td>\n",
       "      <td>154000</td>\n",
       "    </tr>\n",
       "  </tbody>\n",
       "</table>\n",
       "<p>5 rows × 38 columns</p>\n",
       "</div>"
      ],
      "text/plain": [
       "    Id  MSSubClass  LotFrontage  LotArea  OverallQual  OverallCond  YearBuilt  \\\n",
       "7    8          60          NaN    10382            7            6       1973   \n",
       "12  13          20          NaN    12968            5            6       1962   \n",
       "14  15          20          NaN    10920            6            5       1960   \n",
       "16  17          20          NaN    11241            6            7       1970   \n",
       "24  25          20          NaN     8246            5            8       1968   \n",
       "\n",
       "    YearRemodAdd  MasVnrArea  BsmtFinSF1  ...  WoodDeckSF  OpenPorchSF  \\\n",
       "7           1973       240.0         859  ...         235          204   \n",
       "12          1962         0.0         737  ...         140            0   \n",
       "14          1960       212.0         733  ...           0          213   \n",
       "16          1970       180.0         578  ...           0            0   \n",
       "24          2001         0.0         188  ...         406           90   \n",
       "\n",
       "    EnclosedPorch  3SsnPorch  ScreenPorch  PoolArea  MiscVal  MoSold  YrSold  \\\n",
       "7             228          0            0         0      350      11    2009   \n",
       "12              0          0          176         0        0       9    2008   \n",
       "14            176          0            0         0        0       5    2008   \n",
       "16              0          0            0         0      700       3    2010   \n",
       "24              0          0            0         0        0       5    2010   \n",
       "\n",
       "    SalePrice  \n",
       "7      200000  \n",
       "12     144000  \n",
       "14     157000  \n",
       "16     149000  \n",
       "24     154000  \n",
       "\n",
       "[5 rows x 38 columns]"
      ]
     },
     "execution_count": 4,
     "metadata": {},
     "output_type": "execute_result"
    }
   ],
   "source": [
    "num_df = num_df[num_df.isnull().any(axis=1)]\n",
    "num_df.head(5) "
   ]
  },
  {
   "cell_type": "markdown",
   "metadata": {},
   "source": [
    "## Creation des datasets de train et validation"
   ]
  },
  {
   "cell_type": "code",
   "execution_count": 8,
   "metadata": {},
   "outputs": [],
   "source": [
    "X = num_df.drop(\"SalePrice\", axis=1) # on enlève la colonne des prix avec drop \n",
    "y = num_df[\"SalePrice\"] \n",
    "\n",
    "# on divise en deux parties nos datasets X et y\n",
    "from sklearn import model_selection\n",
    "X_train, X_val, y_train, y_val = model_selection.train_test_split(X, y, random_state = 1, shuffle=True)"
   ]
  },
  {
   "cell_type": "markdown",
   "metadata": {},
   "source": [
    "## Implémentation du modèle"
   ]
  },
  {
   "cell_type": "code",
   "execution_count": 9,
   "metadata": {
    "scrolled": true
   },
   "outputs": [],
   "source": [
    "# Attention cette cellule doit être éxécutée une fois sinon il faut recréer les datasets au début\n",
    "\n",
    "from sklearn.kernel_ridge import KernelRidge\n",
    "\n",
    "all_labels = X_train.keys()\n",
    "\n",
    "used_labels = ['LotFrontage', 'LotArea', 'YearBuilt', 'MSSubClass', 'MoSold']\n",
    "\n",
    "X_train = X_train[all_labels].fillna(X_train.mean()).reset_index()\n",
    "X_train = X_train.drop(\"index\", axis=1)\n",
    "\n",
    "X_val = X_val[all_labels].fillna(X_val.mean()).reset_index()\n",
    "X_val = X_val.drop(\"index\", axis=1)\n",
    "\n",
    "# le fillna.(X_train.mean()) permet de changer les valeurs non référencées (NaN)\n",
    "# on reset aussi les index puisqu'on a shuffle avec reset_index\n",
    "# le drop enlève les anciennes valeurs d'index\n",
    "\n",
    "\n",
    "y_train = y_train.reset_index().drop(\"index\", axis=1)\n",
    "\n",
    "y_val = y_val.reset_index().drop(\"index\", axis=1) \n",
    "# on fait pareil avec y_train et y_val"
   ]
  },
  {
   "cell_type": "markdown",
   "metadata": {},
   "source": [
    "## Modèle"
   ]
  },
  {
   "cell_type": "code",
   "execution_count": 10,
   "metadata": {
    "scrolled": true
   },
   "outputs": [
    {
     "name": "stdout",
     "output_type": "stream",
     "text": [
      "Average error : 4267.500475011949 $.\n",
      "Average Price : 180921.19589041095 $.\n",
      "Pourcentage d'erreur : 2.358762031175658 %.\n"
     ]
    },
    {
     "data": {
      "image/png": "[encoded data removed]",
      "text/plain": [
       "<Figure size 432x288 with 1 Axes>"
      ]
     },
     "metadata": {
      "needs_background": "light"
     },
     "output_type": "display_data"
    }
   ],
   "source": [
    "model = KernelRidge(alpha=1.0, kernel='linear', gamma=2, degree=3, coef0=1, kernel_params=None)\n",
    "model.fit(X_train, y_train) \n",
    "y_pred = model.predict(X_val)\n",
    "\n",
    "x=np.arange(0,len(y_val),1) # creation d'une graduation en abscisse\n",
    "y_pred = y_pred.tolist() # on se retrouve avec une matrice (ce sera plus simple pour R_2)\n",
    "\n",
    "#R_squared = ( ((y_val - y_val.mean()) ** 2).sum() - ((y_val - y_pred) ** 2).sum())/((y_val - y_val.mean()) ** 2).sum()\n",
    "# (y_pred-y_val)**2/np.mean(y_val)\n",
    "\n",
    "error_list = []\n",
    "for i in range(0,len(y_val)): \n",
    "    error = ((y_pred[i] - y_val[\"SalePrice\"][i])**2)/(y_val.mean())\n",
    "    error_list.append(error)\n",
    "\n",
    "print(f\"Average error : {(sum(error_list)/len(error_list))[0]} $.\")\n",
    "\n",
    "mean = df['SalePrice'].mean()\n",
    "print(f\"Average Price : {mean} $.\")\n",
    "\n",
    "print(f\"Pourcentage d'erreur : {((sum(error_list)/len(error_list))[0]/mean)*100} %.\")\n",
    "\n",
    "n = len(y_val)\n",
    "\n",
    "plt.plot(x[:n], y_pred[:n], c='red', label= \"valeur prédite\")\n",
    "plt.plot(x[:n], y_val[:n], c='blue', label= \"vraie valeur\")\n",
    "plt.plot(x[:n], error_list[:n], c='orange', label = \"R^2\")\n",
    "plt.xlabel(\"Maisons\")\n",
    "plt.ylabel(\"Valeurs\")\n",
    "plt.legend(loc = 'best')\n",
    "plt.show();"
   ]
  },
  {
   "cell_type": "markdown",
   "metadata": {},
   "source": [
    "On a donc 2.3% d'erreur sur la dataset de validation (la dataset qui nous permet de faire des ajustements), c'est un résultat qui paraît très intéressant. \n",
    "\n",
    "On va cependant vérifier que le modèle n'overfit pas sur la donnée d'entraînement."
   ]
  },
  {
   "cell_type": "markdown",
   "metadata": {},
   "source": [
    "# Test"
   ]
  },
  {
   "cell_type": "code",
   "execution_count": 11,
   "metadata": {},
   "outputs": [],
   "source": [
    "# tests à venir"
   ]
  }
 ],
 "metadata": {
  "kernelspec": {
   "display_name": "Python 3",
   "language": "python",
   "name": "python3"
  },
  "language_info": {
   "codemirror_mode": {
    "name": "ipython",
    "version": 3
   },
   "file_extension": ".py",
   "mimetype": "text/x-python",
   "name": "python",
   "nbconvert_exporter": "python",
   "pygments_lexer": "ipython3",
   "version": "3.7.4"
  }
 },
 "nbformat": 4,
 "nbformat_minor": 2
}
